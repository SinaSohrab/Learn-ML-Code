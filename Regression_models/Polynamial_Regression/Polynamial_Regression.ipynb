{
 "cells": [
  {
   "cell_type": "code",
<<<<<<< HEAD
   "execution_count": 15,
=======
   "execution_count": 23,
>>>>>>> sina
   "metadata": {},
   "outputs": [],
   "source": [
    "import pandas as pd\n",
    "import numpy as np\n",
    "import matplotlib.pyplot as plt\n",
    "import pylab as pl"
   ]
  },
  {
   "cell_type": "code",
<<<<<<< HEAD
   "execution_count": 16,
=======
   "execution_count": 24,
>>>>>>> sina
   "metadata": {},
   "outputs": [
    {
     "data": {
      "text/html": [
       "<div>\n",
       "<style scoped>\n",
       "    .dataframe tbody tr th:only-of-type {\n",
       "        vertical-align: middle;\n",
       "    }\n",
       "\n",
       "    .dataframe tbody tr th {\n",
       "        vertical-align: top;\n",
       "    }\n",
       "\n",
       "    .dataframe thead th {\n",
       "        text-align: right;\n",
       "    }\n",
       "</style>\n",
       "<table border=\"1\" class=\"dataframe\">\n",
       "  <thead>\n",
       "    <tr style=\"text-align: right;\">\n",
       "      <th></th>\n",
       "      <th>MODELYEAR</th>\n",
       "      <th>MAKE</th>\n",
       "      <th>MODEL</th>\n",
       "      <th>VEHICLECLASS</th>\n",
       "      <th>ENGINESIZE</th>\n",
       "      <th>CYLINDERS</th>\n",
       "      <th>TRANSMISSION</th>\n",
       "      <th>FUELTYPE</th>\n",
       "      <th>FUELCONSUMPTION_CITY</th>\n",
       "      <th>FUELCONSUMPTION_HWY</th>\n",
       "      <th>FUELCONSUMPTION_COMB</th>\n",
       "      <th>FUELCONSUMPTION_COMB_MPG</th>\n",
       "      <th>CO2EMISSIONS</th>\n",
       "    </tr>\n",
       "  </thead>\n",
       "  <tbody>\n",
       "    <tr>\n",
       "      <th>0</th>\n",
       "      <td>2014</td>\n",
       "      <td>ACURA</td>\n",
       "      <td>ILX</td>\n",
       "      <td>COMPACT</td>\n",
       "      <td>2.0</td>\n",
       "      <td>4</td>\n",
       "      <td>AS5</td>\n",
       "      <td>Z</td>\n",
       "      <td>9.9</td>\n",
       "      <td>6.7</td>\n",
       "      <td>8.5</td>\n",
       "      <td>33</td>\n",
       "      <td>196</td>\n",
       "    </tr>\n",
       "    <tr>\n",
       "      <th>1</th>\n",
       "      <td>2014</td>\n",
       "      <td>ACURA</td>\n",
       "      <td>ILX</td>\n",
       "      <td>COMPACT</td>\n",
       "      <td>2.4</td>\n",
       "      <td>4</td>\n",
       "      <td>M6</td>\n",
       "      <td>Z</td>\n",
       "      <td>11.2</td>\n",
       "      <td>7.7</td>\n",
       "      <td>9.6</td>\n",
       "      <td>29</td>\n",
       "      <td>221</td>\n",
       "    </tr>\n",
       "    <tr>\n",
       "      <th>2</th>\n",
       "      <td>2014</td>\n",
       "      <td>ACURA</td>\n",
       "      <td>ILX HYBRID</td>\n",
       "      <td>COMPACT</td>\n",
       "      <td>1.5</td>\n",
       "      <td>4</td>\n",
       "      <td>AV7</td>\n",
       "      <td>Z</td>\n",
       "      <td>6.0</td>\n",
       "      <td>5.8</td>\n",
       "      <td>5.9</td>\n",
       "      <td>48</td>\n",
       "      <td>136</td>\n",
       "    </tr>\n",
       "    <tr>\n",
       "      <th>3</th>\n",
       "      <td>2014</td>\n",
       "      <td>ACURA</td>\n",
       "      <td>MDX 4WD</td>\n",
       "      <td>SUV - SMALL</td>\n",
       "      <td>3.5</td>\n",
       "      <td>6</td>\n",
       "      <td>AS6</td>\n",
       "      <td>Z</td>\n",
       "      <td>12.7</td>\n",
       "      <td>9.1</td>\n",
       "      <td>11.1</td>\n",
       "      <td>25</td>\n",
       "      <td>255</td>\n",
       "    </tr>\n",
       "    <tr>\n",
       "      <th>4</th>\n",
       "      <td>2014</td>\n",
       "      <td>ACURA</td>\n",
       "      <td>RDX AWD</td>\n",
       "      <td>SUV - SMALL</td>\n",
       "      <td>3.5</td>\n",
       "      <td>6</td>\n",
       "      <td>AS6</td>\n",
       "      <td>Z</td>\n",
       "      <td>12.1</td>\n",
       "      <td>8.7</td>\n",
       "      <td>10.6</td>\n",
       "      <td>27</td>\n",
       "      <td>244</td>\n",
       "    </tr>\n",
       "  </tbody>\n",
       "</table>\n",
       "</div>"
      ],
      "text/plain": [
       "   MODELYEAR   MAKE       MODEL VEHICLECLASS  ENGINESIZE  CYLINDERS  \\\n",
       "0       2014  ACURA         ILX      COMPACT         2.0          4   \n",
       "1       2014  ACURA         ILX      COMPACT         2.4          4   \n",
       "2       2014  ACURA  ILX HYBRID      COMPACT         1.5          4   \n",
       "3       2014  ACURA     MDX 4WD  SUV - SMALL         3.5          6   \n",
       "4       2014  ACURA     RDX AWD  SUV - SMALL         3.5          6   \n",
       "\n",
       "  TRANSMISSION FUELTYPE  FUELCONSUMPTION_CITY  FUELCONSUMPTION_HWY  \\\n",
       "0          AS5        Z                   9.9                  6.7   \n",
       "1           M6        Z                  11.2                  7.7   \n",
       "2          AV7        Z                   6.0                  5.8   \n",
       "3          AS6        Z                  12.7                  9.1   \n",
       "4          AS6        Z                  12.1                  8.7   \n",
       "\n",
       "   FUELCONSUMPTION_COMB  FUELCONSUMPTION_COMB_MPG  CO2EMISSIONS  \n",
       "0                   8.5                        33           196  \n",
       "1                   9.6                        29           221  \n",
       "2                   5.9                        48           136  \n",
       "3                  11.1                        25           255  \n",
       "4                  10.6                        27           244  "
      ]
     },
<<<<<<< HEAD
     "execution_count": 16,
=======
     "execution_count": 24,
>>>>>>> sina
     "metadata": {},
     "output_type": "execute_result"
    }
   ],
   "source": [
    "df = pd.read_csv(\"FuelConsumption.csv\")\n",
    "df.head()"
   ]
  },
  {
   "cell_type": "code",
<<<<<<< HEAD
   "execution_count": 17,
=======
   "execution_count": 25,
>>>>>>> sina
   "metadata": {},
   "outputs": [
    {
     "data": {
      "text/html": [
       "<div>\n",
       "<style scoped>\n",
       "    .dataframe tbody tr th:only-of-type {\n",
       "        vertical-align: middle;\n",
       "    }\n",
       "\n",
       "    .dataframe tbody tr th {\n",
       "        vertical-align: top;\n",
       "    }\n",
       "\n",
       "    .dataframe thead th {\n",
       "        text-align: right;\n",
       "    }\n",
       "</style>\n",
       "<table border=\"1\" class=\"dataframe\">\n",
       "  <thead>\n",
       "    <tr style=\"text-align: right;\">\n",
       "      <th></th>\n",
       "      <th>ENGINESIZE</th>\n",
       "      <th>CYLINDERS</th>\n",
       "      <th>FUELCONSUMPTION_COMB</th>\n",
       "      <th>CO2EMISSIONS</th>\n",
       "    </tr>\n",
       "  </thead>\n",
       "  <tbody>\n",
       "    <tr>\n",
       "      <th>0</th>\n",
       "      <td>2.0</td>\n",
       "      <td>4</td>\n",
       "      <td>8.5</td>\n",
       "      <td>196</td>\n",
       "    </tr>\n",
       "    <tr>\n",
       "      <th>1</th>\n",
       "      <td>2.4</td>\n",
       "      <td>4</td>\n",
       "      <td>9.6</td>\n",
       "      <td>221</td>\n",
       "    </tr>\n",
       "    <tr>\n",
       "      <th>2</th>\n",
       "      <td>1.5</td>\n",
       "      <td>4</td>\n",
       "      <td>5.9</td>\n",
       "      <td>136</td>\n",
       "    </tr>\n",
       "    <tr>\n",
       "      <th>3</th>\n",
       "      <td>3.5</td>\n",
       "      <td>6</td>\n",
       "      <td>11.1</td>\n",
       "      <td>255</td>\n",
       "    </tr>\n",
       "    <tr>\n",
       "      <th>4</th>\n",
       "      <td>3.5</td>\n",
       "      <td>6</td>\n",
       "      <td>10.6</td>\n",
       "      <td>244</td>\n",
       "    </tr>\n",
       "  </tbody>\n",
       "</table>\n",
       "</div>"
      ],
      "text/plain": [
       "   ENGINESIZE  CYLINDERS  FUELCONSUMPTION_COMB  CO2EMISSIONS\n",
       "0         2.0          4                   8.5           196\n",
       "1         2.4          4                   9.6           221\n",
       "2         1.5          4                   5.9           136\n",
       "3         3.5          6                  11.1           255\n",
       "4         3.5          6                  10.6           244"
      ]
     },
<<<<<<< HEAD
     "execution_count": 17,
=======
     "execution_count": 25,
>>>>>>> sina
     "metadata": {},
     "output_type": "execute_result"
    }
   ],
   "source": [
    "cdf = df[[\"ENGINESIZE\", \"CYLINDERS\", \"FUELCONSUMPTION_COMB\", \"CO2EMISSIONS\"]]\n",
    "cdf.head()"
   ]
  },
  {
   "cell_type": "code",
<<<<<<< HEAD
   "execution_count": 18,
=======
   "execution_count": 26,
>>>>>>> sina
   "metadata": {},
   "outputs": [
    {
     "data": {
      "image/png": "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",
      "text/plain": [
       "<Figure size 432x288 with 1 Axes>"
      ]
     },
     "metadata": {
      "needs_background": "light"
     },
     "output_type": "display_data"
    }
   ],
   "source": [
    "plt.scatter(cdf.ENGINESIZE, cdf.CO2EMISSIONS)\n",
    "plt.xlabel(\"ENGINESIZE\")\n",
    "plt.ylabel(\"CO2EMISSIONS\")\n",
    "plt.show()"
   ]
  },
  {
   "cell_type": "code",
<<<<<<< HEAD
   "execution_count": 19,
=======
   "execution_count": 27,
>>>>>>> sina
   "metadata": {},
   "outputs": [],
   "source": [
    "msk = np.random.rand(len(df)) < 0.8\n",
    "train = cdf[msk]\n",
    "test = cdf[~msk]"
   ]
  },
  {
   "cell_type": "code",
<<<<<<< HEAD
   "execution_count": 20,
=======
   "execution_count": 28,
>>>>>>> sina
   "metadata": {},
   "outputs": [],
   "source": [
    "from sklearn.preprocessing import PolynomialFeatures\n",
    "from sklearn import linear_model"
   ]
  },
  {
   "cell_type": "code",
<<<<<<< HEAD
   "execution_count": 21,
=======
   "execution_count": 29,
>>>>>>> sina
   "metadata": {},
   "outputs": [
    {
     "data": {
      "text/plain": [
<<<<<<< HEAD
       "array([[ 1.  ,  1.5 ,  2.25],\n",
       "       [ 1.  ,  3.5 , 12.25],\n",
=======
       "array([[ 1.  ,  2.4 ,  5.76],\n",
       "       [ 1.  ,  1.5 ,  2.25],\n",
>>>>>>> sina
       "       [ 1.  ,  3.5 , 12.25],\n",
       "       ...,\n",
       "       [ 1.  ,  3.  ,  9.  ],\n",
       "       [ 1.  ,  3.2 , 10.24],\n",
<<<<<<< HEAD
       "       [ 1.  ,  3.  ,  9.  ]])"
      ]
     },
     "execution_count": 21,
=======
       "       [ 1.  ,  3.2 , 10.24]])"
      ]
     },
     "execution_count": 29,
>>>>>>> sina
     "metadata": {},
     "output_type": "execute_result"
    }
   ],
   "source": [
    "train_x = np.asanyarray(train[[\"ENGINESIZE\"]])\n",
    "train_y = np.asanyarray(train[[\"CO2EMISSIONS\"]])\n",
    "\n",
    "test_x = np.asanyarray(test[[\"ENGINESIZE\"]])\n",
    "test_y = np.asanyarray(test[[\"CO2EMISSIONS\"]])\n",
    "\n",
    "poly = PolynomialFeatures(degree=2)\n",
    "train_x_poly = poly.fit_transform(train_x)\n",
    "train_x_poly"
   ]
  },
  {
   "cell_type": "code",
<<<<<<< HEAD
   "execution_count": 22,
=======
   "execution_count": 30,
>>>>>>> sina
   "metadata": {},
   "outputs": [
    {
     "name": "stdout",
     "output_type": "stream",
     "text": [
<<<<<<< HEAD
      "Coefficients:  [[ 0.         48.50285834 -1.23219125]]\n",
      "Intercept:  [109.818976]\n"
=======
      "Coefficients:  [[ 0.         51.38370625 -1.60289545]]\n",
      "Intercept:  [105.27841915]\n"
>>>>>>> sina
     ]
    }
   ],
   "source": [
    "clf = linear_model.LinearRegression()\n",
    "train_y_ = clf.fit(train_x_poly, train_y)\n",
    "\n",
    "print(\"Coefficients: \", clf.coef_)\n",
    "print(\"Intercept: \", clf.intercept_)"
   ]
  },
  {
   "cell_type": "code",
<<<<<<< HEAD
   "execution_count": 23,
=======
   "execution_count": 31,
>>>>>>> sina
   "metadata": {},
   "outputs": [
    {
     "data": {
<<<<<<< HEAD
      "image/png": "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",
=======
      "image/png": "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",
>>>>>>> sina
      "text/plain": [
       "<Figure size 432x288 with 1 Axes>"
      ]
     },
     "metadata": {
      "needs_background": "light"
     },
     "output_type": "display_data"
    }
   ],
   "source": [
    "plt.scatter(train.ENGINESIZE, train.CO2EMISSIONS)\n",
    "XX = np.arange(0.0, 10.0, 0.1)\n",
    "yy = clf.intercept_[0] + clf.coef_[0][1] * XX + clf.coef_[0][2] * np.power(XX, 2)\n",
    "plt.plot(XX, yy, \"r\")\n",
    "plt.xlabel(\"ENGINESIZE\")\n",
    "plt.ylabel(\"CO2EMISSIONS\")\n",
    "plt.show()"
   ]
  },
  {
   "cell_type": "code",
<<<<<<< HEAD
   "execution_count": 24,
=======
   "execution_count": 32,
>>>>>>> sina
   "metadata": {},
   "outputs": [],
   "source": [
    "from sklearn.metrics import r2_score"
   ]
  },
  {
   "cell_type": "code",
<<<<<<< HEAD
   "execution_count": 25,
=======
   "execution_count": 33,
>>>>>>> sina
   "metadata": {},
   "outputs": [
    {
     "name": "stdout",
     "output_type": "stream",
     "text": [
<<<<<<< HEAD
      "Mane absolut error: 21.72\n",
      "Residual sum of squares (MSE): 820.94\n",
      "R2-score: 0.78\n"
=======
      "Mane absolut error: 22.38\n",
      "Residual sum of squares (MSE): 852.55\n",
      "R2-score: 0.75\n"
>>>>>>> sina
     ]
    }
   ],
   "source": [
    "test_x_poly = poly.fit_transform(test_x)\n",
    "test_y_ = clf.predict(test_x_poly)\n",
    "\n",
    "print(\"Mane absolut error: %.2f\" % np.mean(np.absolute(test_y - test_y_)))\n",
    "print(\"Residual sum of squares (MSE): %.2f\" % np.mean((test_y_ - test_y) ** 2))\n",
    "print(\"R2-score: %.2f\" % r2_score(test_y, test_y_))"
   ]
  },
  {
   "cell_type": "code",
   "execution_count": null,
   "metadata": {},
   "outputs": [],
   "source": []
  }
 ],
 "metadata": {
  "kernelspec": {
   "display_name": "Python 3",
   "language": "python",
   "name": "python3"
  },
  "language_info": {
   "codemirror_mode": {
    "name": "ipython",
    "version": 3
   },
   "file_extension": ".py",
   "mimetype": "text/x-python",
   "name": "python",
   "nbconvert_exporter": "python",
   "pygments_lexer": "ipython3",
   "version": "3.10.12"
  },
  "orig_nbformat": 4
 },
 "nbformat": 4,
 "nbformat_minor": 2
}
